{
  "nbformat": 4,
  "nbformat_minor": 0,
  "metadata": {
    "colab": {
      "name": "image_classification_cifar.ipynb",
      "provenance": [],
      "collapsed_sections": []
    },
    "kernelspec": {
      "name": "python3",
      "display_name": "Python 3"
    },
    "language_info": {
      "name": "python"
    }
  },
  "cells": [
    {
      "cell_type": "code",
      "execution_count": null,
      "metadata": {
        "id": "AR_4Ml32_ljh"
      },
      "outputs": [],
      "source": [
        "#np.reshape(arrayname, (-1,)) #-1 ,means change the shape of the array such that the number of rows is unknown. we have a 2d array and we are reshaping it to 1d array. -1 is used and we are giving the numpy its freedom to reshape the array and figure it on its own."
      ]
    },
    {
      "cell_type": "code",
      "source": [
        "import tensorflow as tf\n",
        "from tensorflow.keras import datasets, layers, models\n",
        "import matplotlib.pyplot as plt\n",
        "import numpy as np"
      ],
      "metadata": {
        "id": "t-K5WObXBBSp"
      },
      "execution_count": null,
      "outputs": []
    },
    {
      "cell_type": "code",
      "source": [
        "#Loading the datasets\n",
        "(x_train,y_train), (x_test,y_test) = datasets.cifar10.load_data()"
      ],
      "metadata": {
        "id": "Ysay2nyEBBh2",
        "colab": {
          "base_uri": "https://localhost:8080/"
        },
        "outputId": "94e89c2c-e327-4a45-d7b8-35ee81d047b6"
      },
      "execution_count": null,
      "outputs": [
        {
          "output_type": "stream",
          "name": "stdout",
          "text": [
            "Downloading data from https://www.cs.toronto.edu/~kriz/cifar-10-python.tar.gz\n",
            "170500096/170498071 [==============================] - 2s 0us/step\n",
            "170508288/170498071 [==============================] - 2s 0us/step\n"
          ]
        }
      ]
    },
    {
      "cell_type": "code",
      "source": [
        "x_train.shape"
      ],
      "metadata": {
        "colab": {
          "base_uri": "https://localhost:8080/"
        },
        "id": "gpb5g0GqBBku",
        "outputId": "986d3489-9683-4b3e-8881-d379c14217be"
      },
      "execution_count": null,
      "outputs": [
        {
          "output_type": "execute_result",
          "data": {
            "text/plain": [
              "(50000, 32, 32, 3)"
            ]
          },
          "metadata": {},
          "execution_count": 4
        }
      ]
    },
    {
      "cell_type": "code",
      "source": [
        "y_train.shape # see the output we are having it as 2d array therefore we will reshape it to 1d array in the  next cell  "
      ],
      "metadata": {
        "colab": {
          "base_uri": "https://localhost:8080/"
        },
        "id": "fMvjtrpvBBnr",
        "outputId": "d28b9b4c-f0e2-45cf-b9e3-e0459e323fab"
      },
      "execution_count": null,
      "outputs": [
        {
          "output_type": "execute_result",
          "data": {
            "text/plain": [
              "(50000, 1)"
            ]
          },
          "metadata": {},
          "execution_count": 5
        }
      ]
    },
    {
      "cell_type": "code",
      "source": [
        "y_train = y_train.reshape(-1,) # so -1 here because, see the above cell, 50000,1. We need 50000 to remain there so we are giving -1 in that position but we don't need 1, therefore leaving that place blank.\n",
        "y_train.shape"
      ],
      "metadata": {
        "colab": {
          "base_uri": "https://localhost:8080/"
        },
        "id": "305wRbJRBBqu",
        "outputId": "08a60507-91f0-4dec-bb42-8e81e0424411"
      },
      "execution_count": null,
      "outputs": [
        {
          "output_type": "execute_result",
          "data": {
            "text/plain": [
              "(50000,)"
            ]
          },
          "metadata": {},
          "execution_count": 6
        }
      ]
    },
    {
      "cell_type": "code",
      "source": [
        "y_train[:5]"
      ],
      "metadata": {
        "colab": {
          "base_uri": "https://localhost:8080/"
        },
        "id": "gnN_mQwPBBv2",
        "outputId": "e8385e6d-431e-44d8-8baa-25dea5c09db4"
      },
      "execution_count": null,
      "outputs": [
        {
          "output_type": "execute_result",
          "data": {
            "text/plain": [
              "array([6, 9, 9, 4, 1], dtype=uint8)"
            ]
          },
          "metadata": {},
          "execution_count": 7
        }
      ]
    },
    {
      "cell_type": "code",
      "source": [
        "y_train[0]"
      ],
      "metadata": {
        "colab": {
          "base_uri": "https://localhost:8080/"
        },
        "id": "JICO4Xi-BB1k",
        "outputId": "74737e56-d604-41e8-f5c5-ffc7df9f1ece"
      },
      "execution_count": null,
      "outputs": [
        {
          "output_type": "execute_result",
          "data": {
            "text/plain": [
              "6"
            ]
          },
          "metadata": {},
          "execution_count": 8
        }
      ]
    },
    {
      "cell_type": "code",
      "source": [
        "print(x_train[0][0][0]) #3 columns\n",
        "print()\n",
        "print(x_train[0][0]) #32 rows, 3 columns\n",
        "print()\n",
        "print(x_train[0]) #32rows 32 times with 3 columns"
      ],
      "metadata": {
        "colab": {
          "base_uri": "https://localhost:8080/"
        },
        "id": "q00n2TioBB4k",
        "outputId": "644b9794-3d56-4a27-a402-48095e9e5a4d"
      },
      "execution_count": null,
      "outputs": [
        {
          "output_type": "stream",
          "name": "stdout",
          "text": [
            "[59 62 63]\n",
            "\n",
            "[[ 59  62  63]\n",
            " [ 43  46  45]\n",
            " [ 50  48  43]\n",
            " [ 68  54  42]\n",
            " [ 98  73  52]\n",
            " [119  91  63]\n",
            " [139 107  75]\n",
            " [145 110  80]\n",
            " [149 117  89]\n",
            " [149 120  93]\n",
            " [131 103  77]\n",
            " [125  99  76]\n",
            " [142 115  91]\n",
            " [144 112  86]\n",
            " [137 105  79]\n",
            " [129  97  71]\n",
            " [137 106  79]\n",
            " [134 106  76]\n",
            " [124  97  64]\n",
            " [139 113  78]\n",
            " [139 112  75]\n",
            " [133 105  69]\n",
            " [136 105  74]\n",
            " [139 108  77]\n",
            " [152 120  89]\n",
            " [163 131 100]\n",
            " [168 136 108]\n",
            " [159 129 102]\n",
            " [158 130 104]\n",
            " [158 132 108]\n",
            " [152 125 102]\n",
            " [148 124 103]]\n",
            "\n",
            "[[[ 59  62  63]\n",
            "  [ 43  46  45]\n",
            "  [ 50  48  43]\n",
            "  ...\n",
            "  [158 132 108]\n",
            "  [152 125 102]\n",
            "  [148 124 103]]\n",
            "\n",
            " [[ 16  20  20]\n",
            "  [  0   0   0]\n",
            "  [ 18   8   0]\n",
            "  ...\n",
            "  [123  88  55]\n",
            "  [119  83  50]\n",
            "  [122  87  57]]\n",
            "\n",
            " [[ 25  24  21]\n",
            "  [ 16   7   0]\n",
            "  [ 49  27   8]\n",
            "  ...\n",
            "  [118  84  50]\n",
            "  [120  84  50]\n",
            "  [109  73  42]]\n",
            "\n",
            " ...\n",
            "\n",
            " [[208 170  96]\n",
            "  [201 153  34]\n",
            "  [198 161  26]\n",
            "  ...\n",
            "  [160 133  70]\n",
            "  [ 56  31   7]\n",
            "  [ 53  34  20]]\n",
            "\n",
            " [[180 139  96]\n",
            "  [173 123  42]\n",
            "  [186 144  30]\n",
            "  ...\n",
            "  [184 148  94]\n",
            "  [ 97  62  34]\n",
            "  [ 83  53  34]]\n",
            "\n",
            " [[177 144 116]\n",
            "  [168 129  94]\n",
            "  [179 142  87]\n",
            "  ...\n",
            "  [216 184 140]\n",
            "  [151 118  84]\n",
            "  [123  92  72]]]\n"
          ]
        }
      ]
    },
    {
      "cell_type": "code",
      "source": [
        "plt.figure(figsize=(8,2))\n",
        "plt.matshow(x_train[0])"
      ],
      "metadata": {
        "colab": {
          "base_uri": "https://localhost:8080/",
          "height": 311
        },
        "id": "VxBF4xBibYt6",
        "outputId": "a01ac7fb-0574-46ab-8e0c-30fa0a0aa25f"
      },
      "execution_count": null,
      "outputs": [
        {
          "output_type": "execute_result",
          "data": {
            "text/plain": [
              "<matplotlib.image.AxesImage at 0x7fe4152e5490>"
            ]
          },
          "metadata": {},
          "execution_count": 10
        },
        {
          "output_type": "display_data",
          "data": {
            "text/plain": [
              "<Figure size 576x144 with 0 Axes>"
            ]
          },
          "metadata": {}
        },
        {
          "output_type": "display_data",
          "data": {
            "image/png": "[encoded data removed]",
            "text/plain": [
              "<Figure size 288x288 with 1 Axes>"
            ]
          },
          "metadata": {
            "needs_background": "light"
          }
        }
      ]
    },
    {
      "cell_type": "code",
      "source": [
        "y_train[0] #we get output as 6, which is frog in the cifar dataset so everything is fine for now."
      ],
      "metadata": {
        "colab": {
          "base_uri": "https://localhost:8080/"
        },
        "id": "NQxLJwEUbvJC",
        "outputId": "40116587-6c58-4056-eeff-5d242a143f26"
      },
      "execution_count": null,
      "outputs": [
        {
          "output_type": "execute_result",
          "data": {
            "text/plain": [
              "6"
            ]
          },
          "metadata": {},
          "execution_count": 11
        }
      ]
    },
    {
      "cell_type": "code",
      "source": [
        "#Scaling\n",
        "x_train = x_train/255\n",
        "x_test = x_test/255"
      ],
      "metadata": {
        "id": "QiPmXQONBB7P"
      },
      "execution_count": null,
      "outputs": []
    },
    {
      "cell_type": "code",
      "source": [
        "x_train[0]"
      ],
      "metadata": {
        "colab": {
          "base_uri": "https://localhost:8080/"
        },
        "id": "sYPxZXAuBB_5",
        "outputId": "75c773b7-5180-4ca8-b55e-ee88215271ac"
      },
      "execution_count": null,
      "outputs": [
        {
          "output_type": "execute_result",
          "data": {
            "text/plain": [
              "array([[[0.23137255, 0.24313725, 0.24705882],\n",
              "        [0.16862745, 0.18039216, 0.17647059],\n",
              "        [0.19607843, 0.18823529, 0.16862745],\n",
              "        ...,\n",
              "        [0.61960784, 0.51764706, 0.42352941],\n",
              "        [0.59607843, 0.49019608, 0.4       ],\n",
              "        [0.58039216, 0.48627451, 0.40392157]],\n",
              "\n",
              "       [[0.0627451 , 0.07843137, 0.07843137],\n",
              "        [0.        , 0.        , 0.        ],\n",
              "        [0.07058824, 0.03137255, 0.        ],\n",
              "        ...,\n",
              "        [0.48235294, 0.34509804, 0.21568627],\n",
              "        [0.46666667, 0.3254902 , 0.19607843],\n",
              "        [0.47843137, 0.34117647, 0.22352941]],\n",
              "\n",
              "       [[0.09803922, 0.09411765, 0.08235294],\n",
              "        [0.0627451 , 0.02745098, 0.        ],\n",
              "        [0.19215686, 0.10588235, 0.03137255],\n",
              "        ...,\n",
              "        [0.4627451 , 0.32941176, 0.19607843],\n",
              "        [0.47058824, 0.32941176, 0.19607843],\n",
              "        [0.42745098, 0.28627451, 0.16470588]],\n",
              "\n",
              "       ...,\n",
              "\n",
              "       [[0.81568627, 0.66666667, 0.37647059],\n",
              "        [0.78823529, 0.6       , 0.13333333],\n",
              "        [0.77647059, 0.63137255, 0.10196078],\n",
              "        ...,\n",
              "        [0.62745098, 0.52156863, 0.2745098 ],\n",
              "        [0.21960784, 0.12156863, 0.02745098],\n",
              "        [0.20784314, 0.13333333, 0.07843137]],\n",
              "\n",
              "       [[0.70588235, 0.54509804, 0.37647059],\n",
              "        [0.67843137, 0.48235294, 0.16470588],\n",
              "        [0.72941176, 0.56470588, 0.11764706],\n",
              "        ...,\n",
              "        [0.72156863, 0.58039216, 0.36862745],\n",
              "        [0.38039216, 0.24313725, 0.13333333],\n",
              "        [0.3254902 , 0.20784314, 0.13333333]],\n",
              "\n",
              "       [[0.69411765, 0.56470588, 0.45490196],\n",
              "        [0.65882353, 0.50588235, 0.36862745],\n",
              "        [0.70196078, 0.55686275, 0.34117647],\n",
              "        ...,\n",
              "        [0.84705882, 0.72156863, 0.54901961],\n",
              "        [0.59215686, 0.4627451 , 0.32941176],\n",
              "        [0.48235294, 0.36078431, 0.28235294]]])"
            ]
          },
          "metadata": {},
          "execution_count": 13
        }
      ]
    },
    {
      "cell_type": "code",
      "source": [
        "#we will build a simple ANN model now\n",
        "ann = models.Sequential([layers.Flatten(input_shape=(32,32,3)), \n",
        "                        layers.Dense(2000, activation=\"relu\"),\n",
        "                        layers.Dense(1000, activation=\"relu\"),\n",
        "                        layers.Dense(10, activation=\"sigmoid\")])\n",
        "ann.compile(optimizer=\"adam\", loss=\"sparse_categorical_crossentropy\", metrics=\"accuracy\" ) \n",
        "ann.fit(x_train, y_train, epochs=10)\n"
      ],
      "metadata": {
        "id": "hX6I_T4GBCCY",
        "colab": {
          "base_uri": "https://localhost:8080/"
        },
        "outputId": "9088a3aa-b335-4fd2-ca91-29e560d2e5d4"
      },
      "execution_count": null,
      "outputs": [
        {
          "output_type": "stream",
          "name": "stdout",
          "text": [
            "Epoch 1/10\n",
            "1563/1563 [==============================] - 94s 60ms/step - loss: 1.8763 - accuracy: 0.3300\n",
            "Epoch 2/10\n",
            "1563/1563 [==============================] - 93s 60ms/step - loss: 1.6719 - accuracy: 0.3959\n",
            "Epoch 3/10\n",
            "1563/1563 [==============================] - 94s 60ms/step - loss: 1.5940 - accuracy: 0.4273\n",
            "Epoch 4/10\n",
            "1563/1563 [==============================] - 94s 60ms/step - loss: 1.5376 - accuracy: 0.4497\n",
            "Epoch 5/10\n",
            "1563/1563 [==============================] - 94s 60ms/step - loss: 1.4994 - accuracy: 0.4627\n",
            "Epoch 6/10\n",
            "1563/1563 [==============================] - 93s 60ms/step - loss: 1.4691 - accuracy: 0.4733\n",
            "Epoch 7/10\n",
            "1563/1563 [==============================] - 94s 60ms/step - loss: 1.4407 - accuracy: 0.4842\n",
            "Epoch 8/10\n",
            "1563/1563 [==============================] - 94s 60ms/step - loss: 1.4099 - accuracy: 0.4936\n",
            "Epoch 9/10\n",
            "1563/1563 [==============================] - 93s 60ms/step - loss: 1.3903 - accuracy: 0.5022\n",
            "Epoch 10/10\n",
            "1563/1563 [==============================] - 93s 60ms/step - loss: 1.3803 - accuracy: 0.5038\n"
          ]
        },
        {
          "output_type": "execute_result",
          "data": {
            "text/plain": [
              "<keras.callbacks.History at 0x7fe410c44a90>"
            ]
          },
          "metadata": {},
          "execution_count": 14
        }
      ]
    },
    {
      "cell_type": "code",
      "source": [
        "#CNN Model:\n",
        "\n",
        "cnn = models.Sequential([\n",
        "                         layers.Conv2D(filters=64, kernel_size=(3,3),activation=\"relu\",input_shape=(32,32,3)), #we won't flatten layers here because we need to use the filters in our 2d image only. Filter numbers are automatically detected, we only specify the number of filters we will be using that is 64 here, kernel_size is the filter matrix size that we are using. And the input shape of the matrix is given as our dataset's matrix shape.\n",
        "                         layers.MaxPooling2D((2,2)), #pooling is done here with 2,2 matrix, that too max pooling\n",
        "                         \n",
        "                         layers.Flatten(), #the input would automatically fed such that the layers get flattened here, we don't have to specify the input size here as 38,38,3\n",
        "                         layers.Dense(64,activation=\"relu\"), \n",
        "                         layers.Dense(32, activation=\"relu\"),\n",
        "                         layers.Dense(10, activation=\"softmax\")]) "
      ],
      "metadata": {
        "id": "4JYRP0qQjn3a"
      },
      "execution_count": null,
      "outputs": []
    },
    {
      "cell_type": "code",
      "source": [
        "cnn.compile(optimizer=\"adam\", loss=\"sparse_categorical_crossentropy\", metrics=\"accuracy\")"
      ],
      "metadata": {
        "id": "QckRAskIyzr5"
      },
      "execution_count": null,
      "outputs": []
    },
    {
      "cell_type": "code",
      "source": [
        "cnn.fit(x_test,y_test, epochs=10) #we see that cnn is faster than ann and it also shows better accuracy. We can add padding and strides also to the sequential model"
      ],
      "metadata": {
        "colab": {
          "base_uri": "https://localhost:8080/"
        },
        "id": "BjEUMXugzDZA",
        "outputId": "9fdd409c-4753-4417-9147-349e1946b760"
      },
      "execution_count": null,
      "outputs": [
        {
          "output_type": "stream",
          "name": "stdout",
          "text": [
            "Epoch 1/10\n",
            "313/313 [==============================] - 12s 36ms/step - loss: 1.8245 - accuracy: 0.3351\n",
            "Epoch 2/10\n",
            "313/313 [==============================] - 11s 36ms/step - loss: 1.4439 - accuracy: 0.4761\n",
            "Epoch 3/10\n",
            "313/313 [==============================] - 11s 36ms/step - loss: 1.2826 - accuracy: 0.5443\n",
            "Epoch 4/10\n",
            "313/313 [==============================] - 11s 36ms/step - loss: 1.1552 - accuracy: 0.5888\n",
            "Epoch 5/10\n",
            "313/313 [==============================] - 11s 36ms/step - loss: 1.0532 - accuracy: 0.6304\n",
            "Epoch 6/10\n",
            "313/313 [==============================] - 11s 36ms/step - loss: 0.9592 - accuracy: 0.6592\n",
            "Epoch 7/10\n",
            "313/313 [==============================] - 11s 36ms/step - loss: 0.8748 - accuracy: 0.6913\n",
            "Epoch 8/10\n",
            "313/313 [==============================] - 11s 36ms/step - loss: 0.7870 - accuracy: 0.7287\n",
            "Epoch 9/10\n",
            "313/313 [==============================] - 11s 36ms/step - loss: 0.7112 - accuracy: 0.7538\n",
            "Epoch 10/10\n",
            "313/313 [==============================] - 11s 36ms/step - loss: 0.6384 - accuracy: 0.7825\n"
          ]
        },
        {
          "output_type": "execute_result",
          "data": {
            "text/plain": [
              "<keras.callbacks.History at 0x7fe410bbbb90>"
            ]
          },
          "metadata": {},
          "execution_count": 17
        }
      ]
    },
    {
      "cell_type": "code",
      "source": [
        "#dropout layer randomly drops neurons\n",
        "#ImageDataGenerator scales, rotates and then inputs the dataset's image\n",
        "#callbacks and learning rate is nothing but early stopping"
      ],
      "metadata": {
        "id": "X_4iGGZv0OJA"
      },
      "execution_count": null,
      "outputs": []
    },
    {
      "cell_type": "code",
      "source": [
        "#cnn with strides and padding\n",
        "cnn = models.Sequential([\n",
        "                         layers.Conv2D(filters=64, kernel_size=(3,3),activation=\"relu\",input_shape=(32,32,3), padding=\"same\", strides = (1,1)), #Padding equal to same gives us padding, strides = 1,1 when set mmoves the filter matrix by one unit. we won't flatten layers here because we need to use the filters in our 2d image only. Filter numbers are automatically detected, we only specify the number of filters we will be using that is 64 here, kernel_size is the filter matrix size that we are using. And the input shape of the matrix is given as our dataset's matrix shape.\n",
        "                         layers.MaxPooling2D((2,2)), #pooling is done here with 2,2 matrix, that too max pooling\n",
        "                         \n",
        "                         layers.Flatten(), #the input would automatically fed such that the layers get flattened here, we don't have to specify the input size here as 38,38,3\n",
        "                         layers.Dense(64,activation=\"relu\"), \n",
        "                         layers.Dense(32, activation=\"relu\"),\n",
        "                         layers.Dense(10, activation=\"softmax\")]) \n",
        "cnn.compile(optimizer=\"adam\", loss=\"sparse_categorical_crossentropy\", metrics=\"accuracy\")\n",
        "cnn.fit(x_test,y_test, epochs=10)"
      ],
      "metadata": {
        "colab": {
          "base_uri": "https://localhost:8080/"
        },
        "id": "EzQt1_zu0z7Y",
        "outputId": "39f0abc6-440a-417a-f6ec-72259f78b63a"
      },
      "execution_count": null,
      "outputs": [
        {
          "output_type": "stream",
          "name": "stdout",
          "text": [
            "Epoch 1/10\n",
            "313/313 [==============================] - 14s 42ms/step - loss: 1.9634 - accuracy: 0.2875\n",
            "Epoch 2/10\n",
            "313/313 [==============================] - 13s 42ms/step - loss: 1.5278 - accuracy: 0.4507\n",
            "Epoch 3/10\n",
            "313/313 [==============================] - 13s 42ms/step - loss: 1.3278 - accuracy: 0.5214\n",
            "Epoch 4/10\n",
            "313/313 [==============================] - 13s 42ms/step - loss: 1.1877 - accuracy: 0.5772\n",
            "Epoch 5/10\n",
            "313/313 [==============================] - 13s 42ms/step - loss: 1.0962 - accuracy: 0.6138\n",
            "Epoch 6/10\n",
            "313/313 [==============================] - 13s 42ms/step - loss: 0.9935 - accuracy: 0.6478\n",
            "Epoch 7/10\n",
            "313/313 [==============================] - 13s 42ms/step - loss: 0.9188 - accuracy: 0.6793\n",
            "Epoch 8/10\n",
            "313/313 [==============================] - 13s 42ms/step - loss: 0.8299 - accuracy: 0.7084\n",
            "Epoch 9/10\n",
            "313/313 [==============================] - 13s 42ms/step - loss: 0.7555 - accuracy: 0.7377\n",
            "Epoch 10/10\n",
            "313/313 [==============================] - 13s 41ms/step - loss: 0.6904 - accuracy: 0.7548\n"
          ]
        },
        {
          "output_type": "execute_result",
          "data": {
            "text/plain": [
              "<keras.callbacks.History at 0x7fe410a7d850>"
            ]
          },
          "metadata": {},
          "execution_count": 19
        }
      ]
    },
    {
      "cell_type": "code",
      "source": [
        "y_test[:5] #its 2D"
      ],
      "metadata": {
        "colab": {
          "base_uri": "https://localhost:8080/"
        },
        "id": "HIrPiBtz5y1c",
        "outputId": "17d79541-2eff-4f4b-90fd-792af06da298"
      },
      "execution_count": null,
      "outputs": [
        {
          "output_type": "execute_result",
          "data": {
            "text/plain": [
              "array([[3],\n",
              "       [8],\n",
              "       [8],\n",
              "       [0],\n",
              "       [6]], dtype=uint8)"
            ]
          },
          "metadata": {},
          "execution_count": 20
        }
      ]
    },
    {
      "cell_type": "code",
      "source": [
        "y_test = y_test.reshape(-1,)\n",
        "y_test"
      ],
      "metadata": {
        "colab": {
          "base_uri": "https://localhost:8080/"
        },
        "id": "cSm8Al3F5y-K",
        "outputId": "348d75f7-cde2-4ef2-8dd4-111b46a0d01c"
      },
      "execution_count": null,
      "outputs": [
        {
          "output_type": "execute_result",
          "data": {
            "text/plain": [
              "array([3, 8, 8, ..., 5, 1, 7], dtype=uint8)"
            ]
          },
          "metadata": {},
          "execution_count": 21
        }
      ]
    },
    {
      "cell_type": "code",
      "source": [
        "cnn.evaluate(x_test,y_test)"
      ],
      "metadata": {
        "colab": {
          "base_uri": "https://localhost:8080/"
        },
        "id": "LhLP2on38xwc",
        "outputId": "aed6cd0e-94d8-45d8-cc97-89e11152c35d"
      },
      "execution_count": null,
      "outputs": [
        {
          "output_type": "stream",
          "name": "stdout",
          "text": [
            "313/313 [==============================] - 4s 13ms/step - loss: 0.6318 - accuracy: 0.7825\n"
          ]
        },
        {
          "output_type": "execute_result",
          "data": {
            "text/plain": [
              "[0.6318297982215881, 0.7825000286102295]"
            ]
          },
          "metadata": {},
          "execution_count": 22
        }
      ]
    },
    {
      "cell_type": "code",
      "source": [
        "#we are adding dropout layers here so that random neurons shall be dropped to reduce overfitting. So 0.25 means 25% of neurons will be dropped randomly\n",
        "cnn = models.Sequential([\n",
        "                         layers.Conv2D(filters=64, kernel_size=(3,3),activation=\"relu\",input_shape=(32,32,3), padding=\"same\", strides = (1,1)), #Padding equal to same gives us padding, strides = 1,1 when set mmoves the filter matrix by one unit. we won't flatten layers here because we need to use the filters in our 2d image only. Filter numbers are automatically detected, we only specify the number of filters we will be using that is 64 here, kernel_size is the filter matrix size that we are using. And the input shape of the matrix is given as our dataset's matrix shape.\n",
        "                         layers.MaxPooling2D((2,2)), #pooling is done here with 2,2 matrix, that too max pooling\n",
        "                         layers.Dropout((0.25)),\n",
        "\n",
        "                         \n",
        "                         layers.Conv2D(filters=64, kernel_size=(3,3),activation=\"relu\",input_shape=(32,32,3), padding=\"same\", strides = (1,1)),\n",
        "                         layers.MaxPooling2D((2,2)),\n",
        "                         layers.Dropout((0.25)),\n",
        "\n",
        "                         layers.Flatten(), #the input would automatically fed such that the layers get flattened here, we don't have to specify the input size here as 38,38,3\n",
        "                         layers.Dense(64,activation=\"relu\"), \n",
        "                         layers.Dense(32, activation=\"relu\"),\n",
        "                         layers.Dense(10, activation=\"softmax\")]) \n",
        "cnn.compile(optimizer=\"adam\", loss=\"sparse_categorical_crossentropy\", metrics=\"accuracy\")\n",
        "cnn.fit(x_test,y_test, epochs=10)"
      ],
      "metadata": {
        "colab": {
          "base_uri": "https://localhost:8080/"
        },
        "id": "5fzh_H2F8_Om",
        "outputId": "8f3d10ef-41e9-4516-aba4-0c71bef6fc55"
      },
      "execution_count": null,
      "outputs": [
        {
          "output_type": "stream",
          "name": "stdout",
          "text": [
            "Epoch 1/10\n",
            "313/313 [==============================] - 30s 95ms/step - loss: 1.9814 - accuracy: 0.2702\n",
            "Epoch 2/10\n",
            "313/313 [==============================] - 30s 95ms/step - loss: 1.5891 - accuracy: 0.4228\n",
            "Epoch 3/10\n",
            "313/313 [==============================] - 30s 95ms/step - loss: 1.4139 - accuracy: 0.4918\n",
            "Epoch 4/10\n",
            "313/313 [==============================] - 30s 95ms/step - loss: 1.3098 - accuracy: 0.5267\n",
            "Epoch 5/10\n",
            "313/313 [==============================] - 30s 95ms/step - loss: 1.2118 - accuracy: 0.5653\n",
            "Epoch 6/10\n",
            "313/313 [==============================] - 30s 94ms/step - loss: 1.1337 - accuracy: 0.5927\n",
            "Epoch 7/10\n",
            "313/313 [==============================] - 30s 95ms/step - loss: 1.0715 - accuracy: 0.6171\n",
            "Epoch 8/10\n",
            "313/313 [==============================] - 30s 95ms/step - loss: 1.0017 - accuracy: 0.6457\n",
            "Epoch 9/10\n",
            "313/313 [==============================] - 30s 94ms/step - loss: 0.9319 - accuracy: 0.6715\n",
            "Epoch 10/10\n",
            "313/313 [==============================] - 30s 95ms/step - loss: 0.8737 - accuracy: 0.6890\n"
          ]
        },
        {
          "output_type": "execute_result",
          "data": {
            "text/plain": [
              "<keras.callbacks.History at 0x7fe4108d5a90>"
            ]
          },
          "metadata": {},
          "execution_count": 23
        }
      ]
    },
    {
      "cell_type": "code",
      "source": [
        "cnn.evaluate(x_test,y_test) #we see the accuracy is reduced in this case. Its a matter of trial and error."
      ],
      "metadata": {
        "colab": {
          "base_uri": "https://localhost:8080/"
        },
        "id": "5U_xDQP3-8Nc",
        "outputId": "08654b9f-fb7d-403f-a7c9-4ff2bf4c5bb2"
      },
      "execution_count": null,
      "outputs": [
        {
          "output_type": "stream",
          "name": "stdout",
          "text": [
            "313/313 [==============================] - 7s 23ms/step - loss: 0.6924 - accuracy: 0.7748\n"
          ]
        },
        {
          "output_type": "execute_result",
          "data": {
            "text/plain": [
              "[0.6923888325691223, 0.7748000025749207]"
            ]
          },
          "metadata": {},
          "execution_count": 24
        }
      ]
    },
    {
      "cell_type": "code",
      "source": [
        "y_pred = cnn.predict(x_test)"
      ],
      "metadata": {
        "id": "zijWVuYLPfYq"
      },
      "execution_count": null,
      "outputs": []
    },
    {
      "cell_type": "code",
      "source": [
        "y_pred[0]"
      ],
      "metadata": {
        "colab": {
          "base_uri": "https://localhost:8080/"
        },
        "id": "EqZsU4fePwy0",
        "outputId": "8e45ea59-2d82-4b40-d295-c93499de68ed"
      },
      "execution_count": null,
      "outputs": [
        {
          "output_type": "execute_result",
          "data": {
            "text/plain": [
              "array([9.8269451e-03, 5.6884735e-05, 1.9453118e-02, 4.3392441e-01,\n",
              "       2.8439225e-03, 4.6003887e-01, 9.5051173e-03, 3.6524714e-03,\n",
              "       6.0311314e-02, 3.8700842e-04], dtype=float32)"
            ]
          },
          "metadata": {},
          "execution_count": 26
        }
      ]
    },
    {
      "cell_type": "code",
      "source": [
        "y_labels = [np.argmax(i) for i in y_pred]"
      ],
      "metadata": {
        "id": "rt1koW0xPmyl"
      },
      "execution_count": null,
      "outputs": []
    },
    {
      "cell_type": "code",
      "source": [
        "y_labels[0]"
      ],
      "metadata": {
        "colab": {
          "base_uri": "https://localhost:8080/"
        },
        "id": "XbQXiacxPzJW",
        "outputId": "06db99c8-fb9a-42b1-fa81-f9545f04949d"
      },
      "execution_count": null,
      "outputs": [
        {
          "output_type": "execute_result",
          "data": {
            "text/plain": [
              "5"
            ]
          },
          "metadata": {},
          "execution_count": 28
        }
      ]
    },
    {
      "cell_type": "code",
      "source": [
        "y_labels[:5]"
      ],
      "metadata": {
        "colab": {
          "base_uri": "https://localhost:8080/"
        },
        "id": "a51gxTakP0u_",
        "outputId": "1ecf440a-590c-4cd6-a7d8-0b9a7e6c7571"
      },
      "execution_count": null,
      "outputs": [
        {
          "output_type": "execute_result",
          "data": {
            "text/plain": [
              "[5, 8, 8, 0, 6]"
            ]
          },
          "metadata": {},
          "execution_count": 29
        }
      ]
    },
    {
      "cell_type": "code",
      "source": [
        "y_test[:5]"
      ],
      "metadata": {
        "colab": {
          "base_uri": "https://localhost:8080/"
        },
        "id": "Awwyq5jlP27_",
        "outputId": "cf303cb2-32cf-4314-ed15-191932bcc8b8"
      },
      "execution_count": null,
      "outputs": [
        {
          "output_type": "execute_result",
          "data": {
            "text/plain": [
              "array([3, 8, 8, 0, 6], dtype=uint8)"
            ]
          },
          "metadata": {},
          "execution_count": 30
        }
      ]
    },
    {
      "cell_type": "code",
      "source": [
        "cm = tf.math.confusion_matrix(y_labels, y_test)\n",
        "cm"
      ],
      "metadata": {
        "colab": {
          "base_uri": "https://localhost:8080/"
        },
        "id": "xhXB-i-qP5yO",
        "outputId": "9941913b-287e-4b05-b8f4-fe7b3617ec12"
      },
      "execution_count": null,
      "outputs": [
        {
          "output_type": "execute_result",
          "data": {
            "text/plain": [
              "<tf.Tensor: shape=(10, 10), dtype=int32, numpy=\n",
              "array([[841,  11,  97,  25,  27,  14,   9,  15,  42,  27],\n",
              "       [ 20, 941,   6,   9,   3,   4,   4,   5,  33, 127],\n",
              "       [ 20,   0, 538,  37,  32,  25,  20,  10,   1,   8],\n",
              "       [  9,   3,  39, 567,  16,  95,  16,  14,   5,  11],\n",
              "       [ 15,   1, 163,  98, 808,  85,  69,  57,   2,   0],\n",
              "       [  1,   1,  59, 123,  21, 680,   5,  26,   3,   2],\n",
              "       [  5,   1,  43,  64,  42,  35, 858,   7,   2,   4],\n",
              "       [  4,   0,  33,  34,  39,  45,   5, 853,   7,  18],\n",
              "       [ 70,  13,  19,  31,  10,  13,   9,   6, 892,  33],\n",
              "       [ 15,  29,   3,  12,   2,   4,   5,   7,  13, 770]], dtype=int32)>"
            ]
          },
          "metadata": {},
          "execution_count": 31
        }
      ]
    },
    {
      "cell_type": "code",
      "source": [
        "import seaborn as sns\n",
        "plt.figure(figsize=(12,8))\n",
        "sns.heatmap(cm, annot=True, fmt='d')\n",
        "plt.xlabel(\"predicted\")\n",
        "plt.ylabel(\"actual\")"
      ],
      "metadata": {
        "colab": {
          "base_uri": "https://localhost:8080/",
          "height": 515
        },
        "id": "rTt3iq6KQFiF",
        "outputId": "c4fd0caf-a9dc-4b92-a8a6-2b4e9dccf445"
      },
      "execution_count": null,
      "outputs": [
        {
          "output_type": "execute_result",
          "data": {
            "text/plain": [
              "Text(87.0, 0.5, 'actual')"
            ]
          },
          "metadata": {},
          "execution_count": 39
        },
        {
          "output_type": "display_data",
          "data": {
            "image/png": "[encoded data removed]",
            "text/plain": [
              "<Figure size 864x576 with 2 Axes>"
            ]
          },
          "metadata": {
            "needs_background": "light"
          }
        }
      ]
    },
    {
      "cell_type": "code",
      "source": [
        "from sklearn.metrics import confusion_matrix, classification_report\n",
        "print(classification_report(y_test,y_labels))"
      ],
      "metadata": {
        "colab": {
          "base_uri": "https://localhost:8080/"
        },
        "id": "rqnqxPpjQlpp",
        "outputId": "e150f633-bbf5-47a6-d541-a59a9e8bb1d3"
      },
      "execution_count": null,
      "outputs": [
        {
          "output_type": "stream",
          "name": "stdout",
          "text": [
            "              precision    recall  f1-score   support\n",
            "\n",
            "           0       0.76      0.84      0.80      1000\n",
            "           1       0.82      0.94      0.87      1000\n",
            "           2       0.78      0.54      0.64      1000\n",
            "           3       0.73      0.57      0.64      1000\n",
            "           4       0.62      0.81      0.70      1000\n",
            "           5       0.74      0.68      0.71      1000\n",
            "           6       0.81      0.86      0.83      1000\n",
            "           7       0.82      0.85      0.84      1000\n",
            "           8       0.81      0.89      0.85      1000\n",
            "           9       0.90      0.77      0.83      1000\n",
            "\n",
            "    accuracy                           0.77     10000\n",
            "   macro avg       0.78      0.77      0.77     10000\n",
            "weighted avg       0.78      0.77      0.77     10000\n",
            "\n"
          ]
        }
      ]
    },
    {
      "cell_type": "code",
      "source": [
        ""
      ],
      "metadata": {
        "id": "baXpUaNiRCAs"
      },
      "execution_count": null,
      "outputs": []
    }
  ]
}